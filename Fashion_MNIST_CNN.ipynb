{
  "nbformat": 4,
  "nbformat_minor": 0,
  "metadata": {
    "colab": {
      "name": "Fashion_MNIST_CNN.ipynb",
      "version": "0.3.2",
      "provenance": [],
      "collapsed_sections": [],
      "include_colab_link": true
    },
    "kernelspec": {
      "name": "python3",
      "display_name": "Python 3"
    },
    "accelerator": "GPU"
  },
  "cells": [
    {
      "cell_type": "markdown",
      "metadata": {
        "id": "view-in-github",
        "colab_type": "text"
      },
      "source": [
        "<a href=\"https://colab.research.google.com/github/thealokkr/ComputerVision/blob/master/Fashion_MNIST_CNN.ipynb\" target=\"_parent\"><img src=\"https://colab.research.google.com/assets/colab-badge.svg\" alt=\"Open In Colab\"/></a>"
      ]
    },
    {
      "metadata": {
        "id": "iQjHqsmTAVLU",
        "colab_type": "text"
      },
      "cell_type": "markdown",
      "source": [
        "## Fashion_MNIST\n",
        "CNN architecture for fashion images classification\n",
        "\n",
        "Traning will be cancelled when 99.8% accuracy has been hit\n"
      ]
    },
    {
      "metadata": {
        "id": "sfQRyaJWAIdg",
        "colab_type": "code",
        "outputId": "3d625c42-6371-4988-aed6-ae88be386b3a",
        "colab": {
          "base_uri": "https://localhost:8080/",
          "height": 153
        }
      },
      "cell_type": "code",
      "source": [
        "import tensorflow as tf\n",
        "\n",
        "\n",
        "class accHistory(tf.keras.callbacks.Callback):\n",
        "  def on_epoch_end(self,epoch,logs={}):\n",
        "    if (logs.get('acc')>0.99):\n",
        "      print(\"We reached 99 % accuracy. Stopping the epochs\")\n",
        "      self.model.stop_training = True\n",
        "\n",
        "mnist = tf.keras.datasets.mnist\n",
        "(training_images, training_labels), (test_images, test_labels) = mnist.load_data()\n",
        "\n",
        "\n",
        "\n",
        "training_images = training_images / 255.0\n",
        "test_images = test_images / 255.0\n",
        "\n",
        "training_images = training_images.reshape(60000,28,28,1)\n",
        "test_images = test_images.reshape(10000,28,28,1)\n",
        "\n",
        "acchistory = accHistory()\n",
        "\n",
        "\n",
        "model = tf.keras.models.Sequential([\n",
        "\n",
        "    tf.keras.layers.Conv2D(32,(3,3),input_shape = (28,28,1), activation='relu'),\n",
        "    tf.keras.layers.MaxPool2D(2,2),\n",
        "    tf.keras.layers.Flatten(),\n",
        "    tf.keras.layers.Dense(120,activation='relu'),\n",
        "    tf.keras.layers.Dense(10,activation='softmax')\n",
        "\n",
        "])\n",
        "\n",
        "\n",
        "model.compile(optimizer='Adam',loss='sparse_categorical_crossentropy',metrics=['accuracy'])\n",
        "model.fit(training_images, training_labels, epochs=3, callbacks=[acchistory])\n",
        "test_loss = model.evaluate(test_images, test_labels)\n",
        "\n"
      ],
      "execution_count": 0,
      "outputs": [
        {
          "output_type": "stream",
          "text": [
            "Epoch 1/3\n",
            "60000/60000 [==============================] - 11s 185us/sample - loss: 0.1444 - acc: 0.9571\n",
            "Epoch 2/3\n",
            "60000/60000 [==============================] - 11s 184us/sample - loss: 0.0496 - acc: 0.9844\n",
            "Epoch 3/3\n",
            "59808/60000 [============================>.] - ETA: 0s - loss: 0.0319 - acc: 0.9903We reached 99 % accuracy. Stopping the epochs\n",
            "60000/60000 [==============================] - 11s 185us/sample - loss: 0.0319 - acc: 0.9903\n",
            "10000/10000 [==============================] - 1s 89us/sample - loss: 0.0416 - acc: 0.9866\n"
          ],
          "name": "stdout"
        }
      ]
    },
    {
      "metadata": {
        "id": "RPLL7Stt27vf",
        "colab_type": "code",
        "colab": {}
      },
      "cell_type": "code",
      "source": [
        ""
      ],
      "execution_count": 0,
      "outputs": []
    }
  ]
}